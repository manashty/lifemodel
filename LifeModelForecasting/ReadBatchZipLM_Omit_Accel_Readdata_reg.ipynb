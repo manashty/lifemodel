{
 "cells": [
  {
   "cell_type": "code",
   "execution_count": 1,
   "metadata": {},
   "outputs": [
    {
     "name": "stdout",
     "output_type": "stream",
     "text": [
      "Opened input file and ready for reading from FallDataAvgFixed32AutoShift_2018-03-10  15-17-39.csv\n"
     ]
    }
   ],
   "source": [
    "script_version='2.6'\n",
    "date='March 8th, 2018, UNB'\n",
    "import gzip\n",
    "import queue\n",
    "import numpy as np\n",
    "\n",
    "import pandas\n",
    "import numpy\n",
    "\n",
    "method1_1=\"LifeModel_Binary\"\n",
    "method1_2=\"Fixed_Binary\"\n",
    "method1_3=\"Reg_Binary\"\n",
    "\n",
    "method2_1=\"LifeModel_Multiple\"\n",
    "method2_2=\"Fixed_Multiple\"\n",
    "method2_3=\"Reg_Multiple\"\n",
    "\n",
    "method3_1=\"LifeModel_Accel\"\n",
    "method3_2=\"Fixed_Accel\"\n",
    "method3_3=\"Reg_Accel\"\n",
    "method3_4=\"LifeModel_Accel_AutoShift_reg\"\n",
    "\n",
    "method4_1=\"reg_LifeModel32AutoShift\"\n",
    "method4_2=\"reg_Fixed32AutoShift\"\n",
    "#method4_3=\"reg_LifeModel32\"\n",
    "#method4_4=\"reg_Fixed32\"\n",
    "\n",
    "input_file_variable_name = \"\"\n",
    "#Possible values:\n",
    "#1               \"_50Miss\"\n",
    "#2               \"_10Miss\"\n",
    "#3               \"\"\n",
    "\n",
    "method = method4_2\n",
    "\n",
    "omit=False\n",
    "#method=method1_2\n",
    "\n",
    "reg=False\n",
    "    \n",
    "if(method==method4_1 or\n",
    "   method==method4_2 or\n",
    "   method==method4_3 or\n",
    "   method==method4_4):\n",
    "    reg=True\n",
    "\n",
    "fall_detection_mode= \"two_step\"\n",
    "# single_step\n",
    "# two_step\n",
    "    \n",
    "X=[]\n",
    "Y=[]\n",
    "if(not omit):\n",
    "    limit=34100\n",
    "    max=34100\n",
    "else:\n",
    "    limit=5200\n",
    "    max=5200\n",
    "\n",
    "F=8371\n",
    "K=32\n",
    "\n",
    "accelData=False\n",
    "if(method==method3_1 or method==method3_2 or method==method3_3 or method==method3_4 or method==method4_1 or method==method4_2):\n",
    "    limit=max=70\n",
    "    F=4\n",
    "    K=32\n",
    "    accelData=True\n",
    "\n",
    "current_total=0\n",
    "\n",
    "#data=[]\n",
    "\n",
    "#diagnosis_classes=10\n",
    "#curDir='C:\\\\Users\\\\manas\\\\OneDrive\\\\@Dev\\\\SP4\\\\PythonCNTKVS2017SP4\\\\PythonCNTKVS2017SP4\\\\'\n",
    "curDir=\"\"\n",
    "\n",
    "if(reg):\n",
    "    if(method==method4_1):\n",
    "        filename=curDir+'FallDataAvgLifeModel32AutoShift{0}_2018-03-10  15-17-39.csv'\n",
    "    elif(method==method4_2):\n",
    "        filename=curDir+'FallDataAvgFixed32AutoShift{0}_2018-03-10  15-17-39.csv'\n",
    "        \n",
    "    print(\"Opened input file and ready for reading from {0}\".format(filename.format(input_file_variable_name)))\n",
    "    \n",
    "else:\n",
    "    if(method==method1_1):#LifeModel\n",
    "        filename=curDir+'MIMICIII_Diag_Proc_LM_{0}12-9-2017 7-10-28 PM.csv'\n",
    "    elif (method==method1_2):##Fixed\n",
    "        filename=curDir+'MIMICIII_Diag_Proc_Fixed_{0}12-10-2017 8-41-34 PM.csv'\n",
    "    elif (method==method1_3):##Reg\n",
    "        filename=curDir+'All Patients Reg Fixed\\MIMICIII_Diag_Proc_Reg_{0}1-9-2018 3-51-30 PM.csv'\n",
    "\n",
    "    ##Omit Life Model multiple output\n",
    "    if(method==method2_1):#LifeModel\n",
    "        filename=curDir+\"MIMICIII_Diag_Proc_LM_Omit_{0}1-10-2018 2-20-50 PM.csv\"\n",
    "    elif (method==method2_2):##Fixed\n",
    "        filename=curDir+\"\"\n",
    "    elif (method==method2_3):##Reg\n",
    "        filename=curDir+'\\All Patients Reg Fixed\\MIMICIII_Diag_Proc_Reg_{0}1-9-2018 3-51-30 PM.csv'\n",
    "\n",
    "    if(method==method3_1):#LifeModel\n",
    "        filename=curDir+\"FallDataAvgLifeModel32{0}.csv\"\n",
    "    elif (method==method3_2):##Fixed\n",
    "        filename=curDir+\"FallDataAvgFixed32{0}.csv\"\n",
    "    elif (method==method3_4):#mehrdad\n",
    "        filename=curDir+\"FallDataAvgLifeModel32AutoShift{0}.csv\"\n",
    "\n",
    "        \n",
    "    print(\"Opened input file and ready for reading from {0}\".format(filename.format(\"Input\")))\n",
    "    #print(\"Read input samples: {0} samples from {1}\".format(len(X),filename.format(\"Input\")))\n",
    "    \n",
    "if(accelData):\n",
    "    file_in=open(curDir+filename.format(input_file_variable_name))\n",
    "else:#Normal Mortality\n",
    "    file_in=gzip.open(curDir+filename.format(\"Input\")+'.gz')"
   ]
  },
  {
   "cell_type": "code",
   "execution_count": 2,
   "metadata": {},
   "outputs": [],
   "source": [
    "#FallDataAvgFixed32_2018-03-10  15-17-39 -->                 (70, 129)\n",
    "#FallDataAvgFixed32AutoShift_10Miss_2018-03-10  15-17-39 --> (458, 130)\n",
    "#FallDataAvgFixed32AutoShift_50Miss_2018-03-10  15-17-39 --> (453, 130)\n",
    "#FallDataAvgFixed32AutoShift_2018-03-10  15-17-39 -->        (460, 130)\n",
    "\n",
    "#FallDataAvgLifeModel32_2018-03-10  15-17-39 -->                 (70, 129)\n",
    "#FallDataAvgLifeModel32AutoShift_10Miss_2018-03-10  15-17-39 --> (458, 130)\n",
    "#FallDataAvgLifeModel32AutoShift_50Miss_2018-03-10  15-17-39 --> (453, 130)\n",
    "#FallDataAvgLifeModel32AutoShift_2018-03-10  15-17-39 -->        (460, 130)"
   ]
  },
  {
   "cell_type": "code",
   "execution_count": 3,
   "metadata": {},
   "outputs": [],
   "source": [
    "def file_read_output(fname, future=None, reg_read=False):\n",
    "    if(not reg_read):\n",
    "        with open(fname) as f: \n",
    "                counter=0\n",
    "                if future:\n",
    "                    for line in f:\n",
    "                        if(not omit):\n",
    "                            #Y.append(int(line.split(',')))#Check if this is not correct\n",
    "                            Y.append(int(line))\n",
    "                        else:\n",
    "                            lines=line.split(',') \n",
    "                            lines=list(map(lambda x: int(x),lines))\n",
    "                            #Y.append(lines)\n",
    "                            Y.append(sum(lines)/5)#Make it a 5 category thing, regression\n",
    "                        counter+=1\n",
    "                        if(counter==limit):\n",
    "                            break\n",
    "                        #lines=line.split(',')                                                \n",
    "                        #lines=list(map(lambda x: float(x),lines))\n",
    "                        #Y.append([lines[i*F:(i+1)*F] for i in range(K)])\n",
    "                        \n",
    "                    f.close()#Y.append(data[:])\n",
    "                else: #History                    \n",
    "                    for line in f:  \n",
    "                        lines=line.split(',')                                                \n",
    "                        lines=list(map(lambda x: float(x),lines))\n",
    "                        X.append([lines[i*F:(i+1)*F] for i in range(K)])\n",
    "                        counter+=1\n",
    "                        print(\"Reading patient \"+str(counter))\n",
    "                        if(counter==limit):\n",
    "                            break\n",
    "                        #print(\"X Shape \"+str(len(X[0][0])))\n",
    "                    #X.append(data[:])\n",
    "                    #print(len(X))\n",
    "                        #Y.append([int(j == int(lines[0])) for j in range(diagnosis_classes)])\n",
    "                        #Y.append(lines[0])\n",
    "                        #X.append([lines[1+i*25:1+(i+1)*25] for i in range(25)])\n",
    "    else:\n",
    "        print(\"MehrdadRegTest22\")\n",
    "        df = np.array(pandas.read_csv(fname, usecols=[1], header=None))\n",
    "        print(df.shape)\n",
    "        for _ in df[:,0].tolist():\n",
    "            if(fall_detection_mode==\"two_step\"):\n",
    "                if(_==0):\n",
    "                    Y.append(_)\n",
    "            else:    \n",
    "                Y.append(_)# :( "
   ]
  },
  {
   "cell_type": "code",
   "execution_count": null,
   "metadata": {},
   "outputs": [],
   "source": [
    "\n"
   ]
  },
  {
   "cell_type": "code",
   "execution_count": 4,
   "metadata": {},
   "outputs": [
    {
     "name": "stdout",
     "output_type": "stream",
     "text": [
      "MehrdadRegTest22\n",
      "(460, 1)\n",
      "Read output samples: 70 samples from FallDataAvgFixed32AutoShift_2018-03-10  15-17-39.csv\n"
     ]
    }
   ],
   "source": [
    "#autoShifted regression\n",
    "if (reg):\n",
    "    file_read_output(filename.format(input_file_variable_name),True, True) \n",
    "    print(\"Read output samples: {0} samples from {1}\".format(len(Y),filename.format(input_file_variable_name)))\n",
    "else:\n",
    "    file_read_output(filename.format(\"Output\"),True, False) #Replace Type with output for reading future\n",
    "    #file_out=open(filename.format(\"Output\"))\n",
    "    print(\"Read output samples: {0} samples from {1}\".format(len(Y),filename.format(\"Output\")))"
   ]
  },
  {
   "cell_type": "code",
   "execution_count": 5,
   "metadata": {},
   "outputs": [
    {
     "data": {
      "text/plain": [
       "70"
      ]
     },
     "execution_count": 5,
     "metadata": {},
     "output_type": "execute_result"
    }
   ],
   "source": [
    "len(Y)"
   ]
  },
  {
   "cell_type": "code",
   "execution_count": 6,
   "metadata": {},
   "outputs": [
    {
     "data": {
      "text/plain": [
       "'\\ndef batch_read(size=1):    \\n    global current_total, X, file_in\\n    X=[]\\n    counter=0    \\n    for c in range(size):\\n        if(current_total<max):\\n            line=next(file_in)\\n            if(accelData):\\n                linesB=line                \\n            else:#Normal\\n                linesB=line.decode(\\'UTF-8\\')            \\n            lines=linesB.split(\\',\\')                \\n            lines=list(map(lambda x: float(x),lines[:-1]))\\n            #print(\"Len of lines: {0}\".format(len(lines)))\\n            X.append([lines[i*F:(i +1)*F] for i in range(K)])\\n            #print(\"Len of X: {0}\".format(len(X)))\\n            counter+=1\\n            print(\"Reading patient \"+str(counter),end=\"\\r\",flush=True)\\n            if(counter==limit):\\n                break\\n            current_total+=1\\n        else:\\n            print(\\'Can not read more than {0} samples.\\'.format(current_total))\\n            return X\\n            break\\n    print(\"**Finished Reading {0} Samples**\".format(size))\\n    return X\\n'"
      ]
     },
     "execution_count": 6,
     "metadata": {},
     "output_type": "execute_result"
    }
   ],
   "source": [
    "'''\n",
    "def batch_read(size=1):    \n",
    "    global current_total, X, file_in\n",
    "    X=[]\n",
    "    counter=0    \n",
    "    for c in range(size):\n",
    "        if(current_total<max):\n",
    "            line=next(file_in)\n",
    "            if(accelData):\n",
    "                linesB=line                \n",
    "            else:#Normal\n",
    "                linesB=line.decode('UTF-8')            \n",
    "            lines=linesB.split(',')                \n",
    "            lines=list(map(lambda x: float(x),lines[:-1]))\n",
    "            #print(\"Len of lines: {0}\".format(len(lines)))\n",
    "            X.append([lines[i*F:(i +1)*F] for i in range(K)])\n",
    "            #print(\"Len of X: {0}\".format(len(X)))\n",
    "            counter+=1\n",
    "            print(\"Reading patient \"+str(counter),end=\"\\r\",flush=True)\n",
    "            if(counter==limit):\n",
    "                break\n",
    "            current_total+=1\n",
    "        else:\n",
    "            print('Can not read more than {0} samples.'.format(current_total))\n",
    "            return X\n",
    "            break\n",
    "    print(\"**Finished Reading {0} Samples**\".format(size))\n",
    "    return X\n",
    "'''"
   ]
  },
  {
   "cell_type": "code",
   "execution_count": null,
   "metadata": {},
   "outputs": [],
   "source": []
  },
  {
   "cell_type": "code",
   "execution_count": 7,
   "metadata": {},
   "outputs": [],
   "source": [
    "def batch_read_thread(q, size=2):    \n",
    "    global current_total, X, file_in\n",
    "    X=[]\n",
    "    counter=0    \n",
    "    for c in range(size):\n",
    "        if(current_total<max):\n",
    "            line=next(file_in)\n",
    "            if(accelData):\n",
    "                linesB=line                \n",
    "            else:#Normal\n",
    "                linesB=line.decode('UTF-8')     \n",
    "            lines=linesB.split(',')             \n",
    "            lines=list(map(lambda x: float(x),lines))\n",
    "            #print(\"Len of lines: {0}\".format(len(lines)))\n",
    "            '''\n",
    "            if(reg):\n",
    "                if(fall_detection_mode=='two_step'):\n",
    "                    if(lines[0]==0):\n",
    "                        X.append([lines[i*F+2:(i +1)*F+2] for i in range(K)])\n",
    "                else:\n",
    "                    X.append([lines[i*F+2:(i +1)*F+2] for i in range(K)])\n",
    "            else:'''\n",
    "            X.append([lines[i*F+2:(i +1)*F+2] for i in range(K)])\n",
    "            print(lines[0])\n",
    "            print(\"$$$$$$$$$$$$$$$$$$$$$$$$$$$\")\n",
    "            #print(\"Len of X: {0}\".format(len(X)))            \n",
    "            #print(\"F is :\"+str(F))\n",
    "            #print(\"Array Shape:\")\n",
    "\n",
    "            #print(np.array(X).shape)\n",
    "            print(\"  *******I/O(\"+str(counter+1)+'/'+str(size)+'->'+str(current_total+1),end=\")***\\r\",flush=True)\n",
    "            counter+=1\n",
    "            if(counter==limit):\n",
    "                break\n",
    "            current_total+=1\n",
    "        else:\n",
    "            print('Can not read more than {0} samples.'.format(current_total))\n",
    "            X2=X\n",
    "            q.put(X2)\n",
    "            return X2\n",
    "            break\n",
    "    print(\"**Finished Reading {0} from {1} to {2} Samples***\".format(size,current_total-size,current_total))\n",
    "    X2=X\n",
    "    q.put(X2)\n",
    "    return X2"
   ]
  },
  {
   "cell_type": "code",
   "execution_count": 8,
   "metadata": {},
   "outputs": [],
   "source": [
    "def reset():\n",
    "    global current_total, X, file_in\n",
    "    file_in.close()\n",
    "    if(accelData):\n",
    "        file_in=open(curDir+filename.format(input_file_variable_name))\n",
    "    else:\n",
    "        file_in=gzip.open(curDir+filename.format(\"Input\")+'.gz')\n",
    "    current_total=0\n",
    "    X=[]\n",
    "    counter=0"
   ]
  },
  {
   "cell_type": "code",
   "execution_count": null,
   "metadata": {},
   "outputs": [],
   "source": []
  },
  {
   "cell_type": "code",
   "execution_count": 9,
   "metadata": {},
   "outputs": [],
   "source": [
    "#import pandas as pd"
   ]
  },
  {
   "cell_type": "code",
   "execution_count": 10,
   "metadata": {},
   "outputs": [],
   "source": [
    "#dftest = pd.read_csv(\"FallDataAvgFixed32_2018-03-10  15-17-39.csv\", header=None)"
   ]
  },
  {
   "cell_type": "code",
   "execution_count": 11,
   "metadata": {},
   "outputs": [],
   "source": [
    "#FallDataAvgFixed32_2018-03-10  15-17-39 -->                 (70, 129)\n",
    "#FallDataAvgFixed32AutoShift_10Miss_2018-03-10  15-17-39 --> (458, 130)\n",
    "#FallDataAvgFixed32AutoShift_50Miss_2018-03-10  15-17-39 --> (453, 130)\n",
    "#FallDataAvgFixed32AutoShift_2018-03-10  15-17-39 -->        (460, 130)\n",
    "\n",
    "#FallDataAvgLifeModel32_2018-03-10  15-17-39 -->                 (70, 129)\n",
    "#FallDataAvgLifeModel32AutoShift_10Miss_2018-03-10  15-17-39 --> (458, 130)\n",
    "#FallDataAvgLifeModel32AutoShift_50Miss_2018-03-10  15-17-39 --> (453, 130)\n",
    "#FallDataAvgLifeModel32AutoShift_2018-03-10  15-17-39 -->        (460, 130)"
   ]
  },
  {
   "cell_type": "code",
   "execution_count": 12,
   "metadata": {},
   "outputs": [
    {
     "data": {
      "text/plain": [
       "[]"
      ]
     },
     "execution_count": 12,
     "metadata": {},
     "output_type": "execute_result"
    }
   ],
   "source": [
    "X"
   ]
  },
  {
   "cell_type": "code",
   "execution_count": 13,
   "metadata": {},
   "outputs": [
    {
     "data": {
      "text/plain": [
       "70"
      ]
     },
     "execution_count": 13,
     "metadata": {},
     "output_type": "execute_result"
    }
   ],
   "source": [
    "len(Y)"
   ]
  },
  {
   "cell_type": "code",
   "execution_count": null,
   "metadata": {},
   "outputs": [],
   "source": []
  }
 ],
 "metadata": {
  "kernelspec": {
   "display_name": "Python 3",
   "language": "python",
   "name": "python3"
  },
  "language_info": {
   "codemirror_mode": {
    "name": "ipython",
    "version": 3
   },
   "file_extension": ".py",
   "mimetype": "text/x-python",
   "name": "python",
   "nbconvert_exporter": "python",
   "pygments_lexer": "ipython3",
   "version": "3.6.4"
  }
 },
 "nbformat": 4,
 "nbformat_minor": 2
}
